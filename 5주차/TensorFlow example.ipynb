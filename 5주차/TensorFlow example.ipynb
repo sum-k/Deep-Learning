{
 "cells": [
  {
   "cell_type": "code",
   "execution_count": null,
   "id": "b2a563ca",
   "metadata": {},
   "outputs": [],
   "source": [
    "# !pip install tensorflow"
   ]
  },
  {
   "cell_type": "code",
   "execution_count": 3,
   "id": "c9c62e93",
   "metadata": {},
   "outputs": [],
   "source": [
    "import numpy as np\n",
    "import tensorflow as tf"
   ]
  },
  {
   "cell_type": "code",
   "execution_count": 12,
   "id": "f9941461",
   "metadata": {},
   "outputs": [
    {
     "name": "stdout",
     "output_type": "stream",
     "text": [
      "WARNING:tensorflow:From C:\\ProgramData\\Anaconda3\\lib\\site-packages\\tensorflow\\python\\compat\\v2_compat.py:107: disable_resource_variables (from tensorflow.python.ops.variable_scope) is deprecated and will be removed in a future version.\n",
      "Instructions for updating:\n",
      "non-resource variables are not supported in the long term\n"
     ]
    }
   ],
   "source": [
    "import tensorflow.compat.v1 as tf\n",
    "\n",
    "tf.disable_v2_behavior()"
   ]
  },
  {
   "cell_type": "code",
   "execution_count": 29,
   "id": "6bf2e1a8",
   "metadata": {
    "scrolled": true
   },
   "outputs": [
    {
     "name": "stdout",
     "output_type": "stream",
     "text": [
      "0.0\n"
     ]
    }
   ],
   "source": [
    "coefficients = np.array([[1.], [-10.], [25.]])\n",
    "\n",
    "w = tf.Variable(0, dtype=tf.float32) # 매개변수 정의(0으로 초기화)\n",
    "x = tf.placeholder(tf.float32, [3, 1]) # 학습 데이터 (3, 1)차원의 배열 - x 값을 나중에 줄 것\n",
    "# cost = tf.add(tf.add(w**2, tf.multiply(-10., w)),25) # 비용함수 정의(w^2-10w+25)\n",
    "# cost = w**2 - 10*w + 25 # 일반적인 연산자도 지원\n",
    "cost = x[0][0]*w**2 + x[1][0]*w + x[2][0] # x는 이차 함수의 계수를 조절하는 데이터가 됨\n",
    "train = tf.train.GradientDescentOptimizer(0.01).minimize(cost) # 경사하강법을 써서 비용 함수를 최소화하는 학습 알고리즘\n",
    "\n",
    "# 관용적\n",
    "init = tf.global_variables_initializer()\n",
    "session = tf.Session() # 텐서플로우의 세션 시작\n",
    "session.run(init) # 전역 변수 초기화\n",
    "print(session.run(w)) # 텐서플로우가 변수의 값을 알 수 있도록"
   ]
  },
  {
   "cell_type": "markdown",
   "id": "b160d0ba",
   "metadata": {},
   "source": [
    "**관용적으로 쓰이는 세 줄의 코드**\n",
    "\n",
    "```python\n",
    "session = tf.Session() # 텐서플로우의 세션 시작\n",
    "session.run(init) # 전역 변수 초기화\n",
    "print(session.run(w)) # 텐서플로우가 변수의 값을 알 수 있도록\n",
    "```\n",
    "==> 변환 가능\n",
    "```python\n",
    "with tf.Session() as session:\n",
    "    session.run(init)\n",
    "    print(session.run(w))\n",
    "```"
   ]
  },
  {
   "cell_type": "code",
   "execution_count": 30,
   "id": "c7006d84",
   "metadata": {},
   "outputs": [
    {
     "name": "stdout",
     "output_type": "stream",
     "text": [
      "0.099999994\n"
     ]
    }
   ],
   "source": [
    "# 경사하강법 한 단계 실행\n",
    "session.run(train, feed_dict={x:coefficients}) # 학습 중에 x를 제공\n",
    "print(session.run(w))"
   ]
  },
  {
   "cell_type": "code",
   "execution_count": 32,
   "id": "20b47184",
   "metadata": {},
   "outputs": [
    {
     "name": "stdout",
     "output_type": "stream",
     "text": [
      "4.9999886\n"
     ]
    }
   ],
   "source": [
    "# 경사하강법 1000번 실행\n",
    "for i in range(1000):\n",
    "    session.run(train, feed_dict={x:coefficients})\n",
    "print(session.run(w))"
   ]
  },
  {
   "cell_type": "markdown",
   "id": "4fe781ce",
   "metadata": {},
   "source": [
    "각 학습에서 미니 배치 경사하강법을 쓴다면 서로 다른 미니 배치를 집어넣어야 한다.   \n",
    "  \n",
    "=> 각 학습마다 feed_dict의 학습 세트에 다른 부분 집합을 넣어야 한다.  \n",
    "=> 비용 함수를 정의해주기만 하면 된다는 강점"
   ]
  }
 ],
 "metadata": {
  "kernelspec": {
   "display_name": "Python 3 (ipykernel)",
   "language": "python",
   "name": "python3"
  },
  "language_info": {
   "codemirror_mode": {
    "name": "ipython",
    "version": 3
   },
   "file_extension": ".py",
   "mimetype": "text/x-python",
   "name": "python",
   "nbconvert_exporter": "python",
   "pygments_lexer": "ipython3",
   "version": "3.9.7"
  }
 },
 "nbformat": 4,
 "nbformat_minor": 5
}
